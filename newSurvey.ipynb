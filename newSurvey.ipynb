{
 "cells": [
  {
   "cell_type": "code",
   "execution_count": 2,
   "metadata": {
    "collapsed": true
   },
   "outputs": [],
   "source": [
    "import random\n",
    "import numpy as np\n",
    "import pandas as pd"
   ]
  },
  {
   "cell_type": "code",
   "execution_count": 3,
   "outputs": [],
   "source": [
    "# Determines the population and vote weights of the residents.\n",
    "cities = pd.DataFrame([['Istanbul', 15000, [0.5, 0.4, 0.1]], ['Ankara', 5000, [0.3, 0.3, 0.4]],\n",
    "           ['Izmir', 3500, [0.2, 0.6, 0.2]], ['Bursa', 3000, [0.6, 0.35, 0.05]],\n",
    "           ['Konya', 3000, [0.7, 0.25, 0.05]], ['Tunceli', 500, [0.05, 0.75, 0.2]]])\n",
    "\n",
    "populationVotes = []\n",
    "popDf = pd.DataFrame(columns = ['City', 'Vote'])\n",
    "\n",
    "# Weighted randomly generates votes for every city.\n",
    "for i in range(len(cities)):\n",
    "    populationVotes.append([cities.iloc[i][0], random.choices(['A','B','C'], weights= cities.iloc[i][2], k = cities.iloc[i][1])])\n",
    "\n",
    "# Drops all the generated votes to a dataframe.\n",
    "for i in range(len(populationVotes)):\n",
    "    for j in populationVotes[i][1]:\n",
    "        popDf.loc[len(popDf)] = [populationVotes[i][0], j]"
   ],
   "metadata": {
    "collapsed": false
   }
  },
  {
   "cell_type": "code",
   "execution_count": 52,
   "outputs": [
    {
     "data": {
      "text/plain": "          City\nVote          \nA     0.541667\nB     0.428333\nC     0.196667",
      "text/html": "<div>\n<style scoped>\n    .dataframe tbody tr th:only-of-type {\n        vertical-align: middle;\n    }\n\n    .dataframe tbody tr th {\n        vertical-align: top;\n    }\n\n    .dataframe thead th {\n        text-align: right;\n    }\n</style>\n<table border=\"1\" class=\"dataframe\">\n  <thead>\n    <tr style=\"text-align: right;\">\n      <th></th>\n      <th>City</th>\n    </tr>\n    <tr>\n      <th>Vote</th>\n      <th></th>\n    </tr>\n  </thead>\n  <tbody>\n    <tr>\n      <th>A</th>\n      <td>0.541667</td>\n    </tr>\n    <tr>\n      <th>B</th>\n      <td>0.428333</td>\n    </tr>\n    <tr>\n      <th>C</th>\n      <td>0.196667</td>\n    </tr>\n  </tbody>\n</table>\n</div>"
     },
     "execution_count": 52,
     "metadata": {},
     "output_type": "execute_result"
    }
   ],
   "source": [
    "# Sampling the data unevenly among cities since that is a common problem faced in surveys.\n",
    "orthSample = pd.DataFrame(columns = ['City', 'Vote'])\n",
    "orthSample = pd.concat([orthSample, popDf[popDf['City'] == 'Istanbul'].sample(n=500)])\n",
    "orthSample = pd.concat([orthSample, popDf[popDf['City'] == 'Ankara'].sample(n=120)])\n",
    "orthSample = pd.concat([orthSample, popDf[popDf['City'] == 'Izmir'].sample(n=40)])\n",
    "orthSample = pd.concat([orthSample, popDf[popDf['City'] == 'Bursa'].sample(n=30)])\n",
    "orthSample = pd.concat([orthSample, popDf[popDf['City'] == 'Konya'].sample(n=8)])\n",
    "orthSample = pd.concat([orthSample, popDf[popDf['City'] == 'Tunceli'].sample(n=2)])\n",
    "\n",
    "# Example of an orthodox sampling when unbiased sampling is not possible\n",
    "orthSample.groupby('Vote').count()/600"
   ],
   "metadata": {
    "collapsed": false
   }
  },
  {
   "cell_type": "code",
   "execution_count": 38,
   "outputs": [
    {
     "data": {
      "text/plain": "          City\nVote          \nA     0.455667\nB     0.391933\nC     0.152400",
      "text/html": "<div>\n<style scoped>\n    .dataframe tbody tr th:only-of-type {\n        vertical-align: middle;\n    }\n\n    .dataframe tbody tr th {\n        vertical-align: top;\n    }\n\n    .dataframe thead th {\n        text-align: right;\n    }\n</style>\n<table border=\"1\" class=\"dataframe\">\n  <thead>\n    <tr style=\"text-align: right;\">\n      <th></th>\n      <th>City</th>\n    </tr>\n    <tr>\n      <th>Vote</th>\n      <th></th>\n    </tr>\n  </thead>\n  <tbody>\n    <tr>\n      <th>A</th>\n      <td>0.455667</td>\n    </tr>\n    <tr>\n      <th>B</th>\n      <td>0.391933</td>\n    </tr>\n    <tr>\n      <th>C</th>\n      <td>0.152400</td>\n    </tr>\n  </tbody>\n</table>\n</div>"
     },
     "execution_count": 38,
     "metadata": {},
     "output_type": "execute_result"
    }
   ],
   "source": [
    "# Compare that to population\n",
    "popDf.groupby('Vote').count()/30000"
   ],
   "metadata": {
    "collapsed": false
   }
  },
  {
   "cell_type": "code",
   "execution_count": null,
   "outputs": [],
   "source": [
    "# When unbiased sampling is not possible an alternative approach might be taken\n"
   ],
   "metadata": {
    "collapsed": false
   }
  }
 ],
 "metadata": {
  "kernelspec": {
   "display_name": "Python 3",
   "language": "python",
   "name": "python3"
  },
  "language_info": {
   "codemirror_mode": {
    "name": "ipython",
    "version": 2
   },
   "file_extension": ".py",
   "mimetype": "text/x-python",
   "name": "python",
   "nbconvert_exporter": "python",
   "pygments_lexer": "ipython2",
   "version": "2.7.6"
  }
 },
 "nbformat": 4,
 "nbformat_minor": 0
}
