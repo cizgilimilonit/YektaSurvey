{
 "cells": [
  {
   "cell_type": "code",
   "execution_count": 2,
   "metadata": {
    "collapsed": true
   },
   "outputs": [],
   "source": [
    "import random\n",
    "import numpy as np\n",
    "import pandas as pd"
   ]
  },
  {
   "cell_type": "code",
   "execution_count": 3,
   "outputs": [],
   "source": [
    "# Determines the population and vote weights of the residents.\n",
    "cities = pd.DataFrame([['Istanbul', 15000, [0.5, 0.4, 0.1]], ['Ankara', 5000, [0.3, 0.3, 0.4]],\n",
    "           ['Izmir', 3500, [0.2, 0.6, 0.2]], ['Bursa', 3000, [0.6, 0.35, 0.05]],\n",
    "           ['Konya', 3000, [0.7, 0.25, 0.05]], ['Tunceli', 500, [0.05, 0.75, 0.2]]])\n",
    "\n",
    "populationVotes = []\n",
    "popDf = pd.DataFrame(columns = ['City', 'Vote'])\n",
    "\n",
    "# Weighted randomly generates votes for every city.\n",
    "for i in range(len(cities)):\n",
    "    populationVotes.append([cities.iloc[i][0], random.choices(['A','B','C'], weights= cities.iloc[i][2], k = cities.iloc[i][1])])\n",
    "\n",
    "# Drops all the generated votes to a dataframe.\n",
    "for i in range(len(populationVotes)):\n",
    "    for j in populationVotes[i][1]:\n",
    "        popDf.loc[len(popDf)] = [populationVotes[i][0], j]"
   ],
   "metadata": {
    "collapsed": false
   }
  },
  {
   "cell_type": "code",
   "execution_count": 4,
   "outputs": [
    {
     "data": {
      "text/plain": "           City Vote\n0      Istanbul    B\n1      Istanbul    B\n2      Istanbul    B\n3      Istanbul    A\n4      Istanbul    A\n...         ...  ...\n29995   Tunceli    B\n29996   Tunceli    B\n29997   Tunceli    B\n29998   Tunceli    C\n29999   Tunceli    B\n\n[30000 rows x 2 columns]",
      "text/html": "<div>\n<style scoped>\n    .dataframe tbody tr th:only-of-type {\n        vertical-align: middle;\n    }\n\n    .dataframe tbody tr th {\n        vertical-align: top;\n    }\n\n    .dataframe thead th {\n        text-align: right;\n    }\n</style>\n<table border=\"1\" class=\"dataframe\">\n  <thead>\n    <tr style=\"text-align: right;\">\n      <th></th>\n      <th>City</th>\n      <th>Vote</th>\n    </tr>\n  </thead>\n  <tbody>\n    <tr>\n      <th>0</th>\n      <td>Istanbul</td>\n      <td>B</td>\n    </tr>\n    <tr>\n      <th>1</th>\n      <td>Istanbul</td>\n      <td>B</td>\n    </tr>\n    <tr>\n      <th>2</th>\n      <td>Istanbul</td>\n      <td>B</td>\n    </tr>\n    <tr>\n      <th>3</th>\n      <td>Istanbul</td>\n      <td>A</td>\n    </tr>\n    <tr>\n      <th>4</th>\n      <td>Istanbul</td>\n      <td>A</td>\n    </tr>\n    <tr>\n      <th>...</th>\n      <td>...</td>\n      <td>...</td>\n    </tr>\n    <tr>\n      <th>29995</th>\n      <td>Tunceli</td>\n      <td>B</td>\n    </tr>\n    <tr>\n      <th>29996</th>\n      <td>Tunceli</td>\n      <td>B</td>\n    </tr>\n    <tr>\n      <th>29997</th>\n      <td>Tunceli</td>\n      <td>B</td>\n    </tr>\n    <tr>\n      <th>29998</th>\n      <td>Tunceli</td>\n      <td>C</td>\n    </tr>\n    <tr>\n      <th>29999</th>\n      <td>Tunceli</td>\n      <td>B</td>\n    </tr>\n  </tbody>\n</table>\n<p>30000 rows × 2 columns</p>\n</div>"
     },
     "execution_count": 4,
     "metadata": {},
     "output_type": "execute_result"
    }
   ],
   "source": [
    "popDf"
   ],
   "metadata": {
    "collapsed": false
   }
  },
  {
   "cell_type": "code",
   "execution_count": null,
   "outputs": [],
   "source": [],
   "metadata": {
    "collapsed": false
   }
  }
 ],
 "metadata": {
  "kernelspec": {
   "display_name": "Python 3",
   "language": "python",
   "name": "python3"
  },
  "language_info": {
   "codemirror_mode": {
    "name": "ipython",
    "version": 2
   },
   "file_extension": ".py",
   "mimetype": "text/x-python",
   "name": "python",
   "nbconvert_exporter": "python",
   "pygments_lexer": "ipython2",
   "version": "2.7.6"
  }
 },
 "nbformat": 4,
 "nbformat_minor": 0
}
